{
 "cells": [
  {
   "cell_type": "code",
   "execution_count": 72,
   "metadata": {},
   "outputs": [],
   "source": [
    "import os\n",
    "# Reqiured to suppress tensorflow annoying warnings\n",
    "os.environ['TF_CPP_MIN_LOG_LEVEL'] = '2'\n",
    "\n",
    "import pandas as pd\n",
    "import numpy as np\n",
    "\n",
    "import spacy\n",
    "import gensim\n",
    "import tensorflow as tf\n",
    "from tensorflow import keras\n",
    "\n",
    "from sklearn.model_selection import train_test_split\n",
    "from sklearn.preprocessing import LabelEncoder\n",
    "\n",
    "import matplotlib.pyplot as plt\n",
    "import seaborn as sns\n"
   ]
  },
  {
   "cell_type": "code",
   "execution_count": 73,
   "metadata": {},
   "outputs": [],
   "source": [
    "df = pd.read_csv(\"./data/output.csv\")"
   ]
  },
  {
   "cell_type": "markdown",
   "metadata": {},
   "source": [
    "### Data Cleaning"
   ]
  },
  {
   "cell_type": "code",
   "execution_count": 74,
   "metadata": {},
   "outputs": [],
   "source": [
    "# \"review_text\" nan are to be deleted. Other can stay.\n",
    "df = df.dropna(subset=[\"review_text\"])\n",
    "\n",
    "# Remove invalid entries\n",
    "df = df.loc[df[\"entry_date\"] != \"entry_date\"]\n",
    "\n",
    "# Remove duplicate entries\n",
    "df = df.drop_duplicates([\"offer_ref\", \"entry_id\", \"review_text\"]).drop_duplicates(\"review_text\")\n"
   ]
  },
  {
   "cell_type": "code",
   "execution_count": 75,
   "metadata": {},
   "outputs": [],
   "source": [
    "# fix data types\n",
    "df[\"entry_date\"] = pd.to_datetime(df[\"entry_date\"])\n",
    "df[\"purchase_date\"] = pd.to_datetime(df[\"purchase_date\"])\n",
    "df[\"entry_id\"] = df[\"entry_id\"].astype(int)\n",
    "df[\"offer_ref\"] = df[\"offer_ref\"].astype(int)\n",
    "df[\"score\"] = df[\"score\"].astype(float)"
   ]
  },
  {
   "cell_type": "code",
   "execution_count": 76,
   "metadata": {},
   "outputs": [],
   "source": [
    "# Get Sentiment Cases based on score\n",
    "df[\"sentiment\"] = df[\"score\"].apply(lambda x: \"Positive\" if x >= 4 else \"Negative\" if x <= 2 else \"Neutral\")"
   ]
  },
  {
   "cell_type": "code",
   "execution_count": 77,
   "metadata": {},
   "outputs": [],
   "source": [
    "df[\"review_text\"] = df[\"review_text\"].replace(\"\\n\", \" \", regex=True).replace(\"_+\", \" \", regex=True)"
   ]
  },
  {
   "cell_type": "markdown",
   "metadata": {},
   "source": [
    "### Training Data Prep"
   ]
  },
  {
   "cell_type": "code",
   "execution_count": 78,
   "metadata": {},
   "outputs": [],
   "source": [
    "# Get data to train the model on.\n",
    "data_cleaned = df[[\"review_text\", \"sentiment\"]].reset_index(drop=True).copy()"
   ]
  },
  {
   "cell_type": "code",
   "execution_count": 80,
   "metadata": {},
   "outputs": [],
   "source": [
    "# Get Language Model\n",
    "nlp = spacy.load(\"pl_core_news_lg\")\n",
    "spacy.lang.pl.stop_words.STOP_WORDS.remove(\"ok\")\n",
    "spacy.lang.pl.stop_words.STOP_WORDS.remove(\"nie\")\n"
   ]
  },
  {
   "cell_type": "code",
   "execution_count": 81,
   "metadata": {},
   "outputs": [],
   "source": [
    "gensim_model_file_path = \"./gensim models/cbow.v300.m8.hs.mwe.w2v.gensim\"\n",
    "gensim_model = gensim.models.KeyedVectors.load(gensim_model_file_path)"
   ]
  },
  {
   "cell_type": "code",
   "execution_count": 82,
   "metadata": {},
   "outputs": [],
   "source": [
    "data_cleaned[\"review_text\"] = data_cleaned[\"review_text\"].replace(\"ok\", \"OK\", regex=True)"
   ]
  },
  {
   "cell_type": "code",
   "execution_count": 83,
   "metadata": {},
   "outputs": [],
   "source": [
    "# Apply tokenizer (TAKES ROUGHLY 5 mins!!! on 40K reviews)\n",
    "data_cleaned[\"review_text\"] = data_cleaned[\"review_text\"].transform(lambda x: nlp(x))"
   ]
  },
  {
   "cell_type": "code",
   "execution_count": 125,
   "metadata": {},
   "outputs": [],
   "source": [
    "# result = tf.convert_to_tensor([[gensim_model.get_vector(token.lemma_) if (token.lemma_ in gensim_model.key_to_index) else np.zeros(300, dtype=np.float32) for token in sentence if (not token.is_punct) and (not token.is_stop)] for sentence in data_cleaned['review_text'].iloc[2].sents][0])"
   ]
  },
  {
   "cell_type": "code",
   "execution_count": 126,
   "metadata": {},
   "outputs": [],
   "source": [
    "# tf.concat([tf.reduce_mean(result, 0), tf.reduce_max(result, 0)], axis=0)"
   ]
  },
  {
   "cell_type": "code",
   "execution_count": 127,
   "metadata": {},
   "outputs": [],
   "source": [
    "data_cleaned[\"vectored_form\"] = data_cleaned[\"review_text\"].transform(lambda x: [[token.vector for token in sentence if (not token.is_punct) and (not token.is_stop)] for sentence in x.sents]).transform(lambda x: tf.convert_to_tensor([tf.concat([tf.reduce_mean(sentence, 0), tf.reduce_max(sentence, 0)], axis=0) for sentence in x if len(sentence) > 0]))\n",
    "\n",
    "# (\n",
    "#     data_cleaned[\"review_text\"].transform(lambda x: # x is a Doc object\n",
    "#         tf.convert_to_tensor( # calculate mean of word vectors for each sentence. Tensors have different number of sentences.\n",
    "#             [tf.reduce_mean(tf.constant([token.vector for token in sentence if (not token.is_stop) and (not token.is_punct)], dtype=tf.float64), 0) for sentence in x.sents]\n",
    "#         )\n",
    "#     )\n",
    "# )"
   ]
  },
  {
   "cell_type": "code",
   "execution_count": 128,
   "metadata": {},
   "outputs": [],
   "source": [
    "data_cleaned[\"vectored_form_gensim\"] = data_cleaned[\"review_text\"].transform(lambda x: [[gensim_model.get_vector(token.lemma_) if (token.lemma_ in gensim_model.key_to_index) else np.zeros(300, dtype=np.float32) for token in sentence if (not token.is_punct) and (not token.is_stop)] for sentence in x.sents]).transform(lambda x: tf.convert_to_tensor([tf.concat([tf.reduce_mean(sentence, 0), tf.reduce_max(sentence, 0)], axis=0) for sentence in x if len(sentence) > 0]))\n",
    "# (\n",
    "#     data_cleaned[\"review_text\"].transform(lambda x: # x is a Doc object\n",
    "#         tf.convert_to_tensor( # calculate mean of word vectors for each sentence. Tensors have different number of sentences.\n",
    "#             [tf.reduce_mean(tf.constant([gensim_model.get_vector(token.lemma_) if token.lemma_ in gensim_model.key_to_index else np.zeros(300, dtype=np.float32) for token in x if (not token.is_stop) and (not token.is_punct)], dtype=tf.float64), 0) for sentence in x.sents]\n",
    "#         )\n",
    "#     )\n",
    "# )"
   ]
  },
  {
   "cell_type": "code",
   "execution_count": 197,
   "metadata": {},
   "outputs": [],
   "source": [
    "# Prepare target for categorical crossentropy\n",
    "data_cleaned[\"target\"] = data_cleaned[\"sentiment\"].transform(lambda x: 1 if x == \"Positive\" else 0) #LabelEncoder().fit_transform(data_cleaned[\"sentiment\"])"
   ]
  },
  {
   "cell_type": "code",
   "execution_count": 198,
   "metadata": {},
   "outputs": [],
   "source": [
    "data_cleaned = data_cleaned[data_cleaned[\"review_text\"].transform(lambda x: [[token.lemma_ if (token.lemma_ in gensim_model.key_to_index) else 0 for token in sentence if (not token.is_punct) and (not token.is_stop)] for sentence in x.sents]).transform(lambda x: [sentence for sentence in x if len(sentence) > 0]).transform(lambda x: len(x)) != 0]"
   ]
  },
  {
   "cell_type": "code",
   "execution_count": 212,
   "metadata": {},
   "outputs": [],
   "source": [
    "class DataGenerator(keras.utils.Sequence):\n",
    "    def __init__(self, x_set, y_set, batch_size):\n",
    "        self.x, self.y = x_set, y_set\n",
    "        self.batch_size = batch_size\n",
    "\n",
    "    def __len__(self):\n",
    "        return int(np.ceil(len(self.x) / float(self.batch_size)))\n",
    "\n",
    "    def __getitem__(self, idx):\n",
    "        batch_x = self.x[idx * self.batch_size:(idx + 1) * self.batch_size] \n",
    "        batch_x = tf.convert_to_tensor([tf.pad(x, [[0, 90 - x.shape[0]], [0, 0]]) for x in batch_x])\n",
    "        batch_y = tf.convert_to_tensor(self.y[idx * self.batch_size:(idx + 1) * self.batch_size]) #tf.keras.utils.to_categorical(self.y[idx * self.batch_size:(idx + 1) * self.batch_size], num_classes=3)\n",
    "        return batch_x, batch_y"
   ]
  },
  {
   "cell_type": "code",
   "execution_count": 200,
   "metadata": {},
   "outputs": [],
   "source": [
    "# Check how many zero tensors are present in data\n",
    "# result = data_cleaned[\"vectored_form_gensim\"].transform(lambda x: tf.reduce_all([tf.reduce_sum(y) == 0 for y in x]))"
   ]
  },
  {
   "cell_type": "code",
   "execution_count": 201,
   "metadata": {},
   "outputs": [],
   "source": [
    "# result_1 = data_cleaned[\"vectored_form\"].transform(lambda x: tf.reduce_all([tf.reduce_sum(y) == 0 for y in x]))"
   ]
  },
  {
   "cell_type": "code",
   "execution_count": 202,
   "metadata": {},
   "outputs": [],
   "source": [
    "# data_cleaned[\"vectored_form\"].to"
   ]
  },
  {
   "cell_type": "code",
   "execution_count": 203,
   "metadata": {},
   "outputs": [],
   "source": [
    "# tf.pad(data_cleaned[\"vectored_form\"].iloc[11002], [[0, 90 - data_cleaned[\"vectored_form\"].iloc[11002].shape[0]], [0, 0]])"
   ]
  },
  {
   "cell_type": "code",
   "execution_count": 204,
   "metadata": {},
   "outputs": [],
   "source": [
    "# data_cleaned[\"vectored_form\"].transform(lambda x: tf.pad(x, [[0, 90 - x.shape[0]], [0, 0]]))"
   ]
  },
  {
   "cell_type": "code",
   "execution_count": 205,
   "metadata": {},
   "outputs": [],
   "source": [
    "# tfds = tf.data.Dataset.from_tensor_slices((data_cleaned[\"vectored_form\"], data_cleaned[\"target\"]))"
   ]
  },
  {
   "cell_type": "code",
   "execution_count": 206,
   "metadata": {},
   "outputs": [
    {
     "data": {
      "text/html": [
       "<div>\n",
       "<style scoped>\n",
       "    .dataframe tbody tr th:only-of-type {\n",
       "        vertical-align: middle;\n",
       "    }\n",
       "\n",
       "    .dataframe tbody tr th {\n",
       "        vertical-align: top;\n",
       "    }\n",
       "\n",
       "    .dataframe thead th {\n",
       "        text-align: right;\n",
       "    }\n",
       "</style>\n",
       "<table border=\"1\" class=\"dataframe\">\n",
       "  <thead>\n",
       "    <tr style=\"text-align: right;\">\n",
       "      <th></th>\n",
       "      <th>target</th>\n",
       "      <th>sentiment</th>\n",
       "    </tr>\n",
       "  </thead>\n",
       "  <tbody>\n",
       "    <tr>\n",
       "      <th>0</th>\n",
       "      <td>0</td>\n",
       "      <td>Negative</td>\n",
       "    </tr>\n",
       "    <tr>\n",
       "      <th>1</th>\n",
       "      <td>0</td>\n",
       "      <td>Negative</td>\n",
       "    </tr>\n",
       "    <tr>\n",
       "      <th>2</th>\n",
       "      <td>0</td>\n",
       "      <td>Negative</td>\n",
       "    </tr>\n",
       "    <tr>\n",
       "      <th>3</th>\n",
       "      <td>0</td>\n",
       "      <td>Neutral</td>\n",
       "    </tr>\n",
       "    <tr>\n",
       "      <th>4</th>\n",
       "      <td>1</td>\n",
       "      <td>Positive</td>\n",
       "    </tr>\n",
       "    <tr>\n",
       "      <th>...</th>\n",
       "      <td>...</td>\n",
       "      <td>...</td>\n",
       "    </tr>\n",
       "    <tr>\n",
       "      <th>43121</th>\n",
       "      <td>1</td>\n",
       "      <td>Positive</td>\n",
       "    </tr>\n",
       "    <tr>\n",
       "      <th>43122</th>\n",
       "      <td>1</td>\n",
       "      <td>Positive</td>\n",
       "    </tr>\n",
       "    <tr>\n",
       "      <th>43123</th>\n",
       "      <td>1</td>\n",
       "      <td>Positive</td>\n",
       "    </tr>\n",
       "    <tr>\n",
       "      <th>43124</th>\n",
       "      <td>1</td>\n",
       "      <td>Positive</td>\n",
       "    </tr>\n",
       "    <tr>\n",
       "      <th>43125</th>\n",
       "      <td>1</td>\n",
       "      <td>Positive</td>\n",
       "    </tr>\n",
       "  </tbody>\n",
       "</table>\n",
       "<p>42989 rows × 2 columns</p>\n",
       "</div>"
      ],
      "text/plain": [
       "       target sentiment\n",
       "0           0  Negative\n",
       "1           0  Negative\n",
       "2           0  Negative\n",
       "3           0   Neutral\n",
       "4           1  Positive\n",
       "...       ...       ...\n",
       "43121       1  Positive\n",
       "43122       1  Positive\n",
       "43123       1  Positive\n",
       "43124       1  Positive\n",
       "43125       1  Positive\n",
       "\n",
       "[42989 rows x 2 columns]"
      ]
     },
     "execution_count": 206,
     "metadata": {},
     "output_type": "execute_result"
    }
   ],
   "source": [
    "data_cleaned[[\"target\", \"sentiment\"]]"
   ]
  },
  {
   "cell_type": "code",
   "execution_count": 216,
   "metadata": {},
   "outputs": [],
   "source": [
    "# Train test split\n",
    "X_train, X_test, y_train, y_test = train_test_split(data_cleaned.loc[data_cleaned[\"sentiment\"].isin([\"Positive\", \"Negative\"]), \"vectored_form_gensim\"], data_cleaned.loc[data_cleaned[\"sentiment\"].isin([\"Positive\", \"Negative\"]),\"target\"], test_size=0.2, random_state=42)\n",
    "# Further split to get validation set\n",
    "X_train, X_val, y_train, y_val = train_test_split(X_train, y_train, test_size=0.1, random_state=42)\n",
    "\n",
    "train_gen = DataGenerator(X_train, y_train, 1500)\n",
    "val_gen = DataGenerator(X_val, y_val, 1500)\n",
    "test_gen = DataGenerator(X_test, y_test, 1500)"
   ]
  },
  {
   "cell_type": "code",
   "execution_count": 217,
   "metadata": {},
   "outputs": [
    {
     "name": "stdout",
     "output_type": "stream",
     "text": [
      "Model: \"sequential\"\n",
      "_________________________________________________________________\n",
      " Layer (type)                Output Shape              Param #   \n",
      "=================================================================\n",
      " bidirectional (Bidirectiona  (None, 256)              746496    \n",
      " l)                                                              \n",
      "                                                                 \n",
      " dense (Dense)               (None, 64)                16448     \n",
      "                                                                 \n",
      " dense_1 (Dense)             (None, 8)                 520       \n",
      "                                                                 \n",
      " dense_2 (Dense)             (None, 1)                 9         \n",
      "                                                                 \n",
      "=================================================================\n",
      "Total params: 763,473\n",
      "Trainable params: 763,473\n",
      "Non-trainable params: 0\n",
      "_________________________________________________________________\n"
     ]
    }
   ],
   "source": [
    "\n",
    "\n",
    "# Clear session\n",
    "keras.backend.clear_session()\n",
    "\n",
    "# model initialization\n",
    "model = keras.Sequential([\n",
    "    keras.layers.Bidirectional(keras.layers.LSTM(128), input_shape=(90, 600)),\n",
    "    keras.layers.Dense(64, activation='relu'),\n",
    "    keras.layers.Dense(8, activation='relu'),\n",
    "    keras.layers.Dense(1, activation='sigmoid')\n",
    "])\n",
    "\n",
    "# compile model with loss suited for 3 categories: \"Positive\", \"Negative\", \"Neutral\"\n",
    "model.compile(loss='binary_crossentropy',\n",
    "              optimizer=tf.optimizers.Adam(learning_rate=0.001),\n",
    "              metrics=['accuracy'],\n",
    ")\n",
    "\n",
    "# model summary\n",
    "model.summary()"
   ]
  },
  {
   "cell_type": "code",
   "execution_count": 218,
   "metadata": {},
   "outputs": [
    {
     "name": "stdout",
     "output_type": "stream",
     "text": [
      "Epoch 1/15\n",
      "16/16 [==============================] - 10s 389ms/step - loss: 0.6501 - accuracy: 0.6132 - val_loss: 0.5999 - val_accuracy: 0.6867\n",
      "Epoch 2/15\n",
      "16/16 [==============================] - 6s 350ms/step - loss: 0.5526 - accuracy: 0.7601 - val_loss: 0.4832 - val_accuracy: 0.7848\n",
      "Epoch 3/15\n",
      "16/16 [==============================] - 6s 354ms/step - loss: 0.4301 - accuracy: 0.8206 - val_loss: 0.3873 - val_accuracy: 0.8315\n",
      "Epoch 4/15\n",
      "16/16 [==============================] - 6s 351ms/step - loss: 0.3690 - accuracy: 0.8429 - val_loss: 0.3616 - val_accuracy: 0.8506\n",
      "Epoch 5/15\n",
      "16/16 [==============================] - 6s 355ms/step - loss: 0.3403 - accuracy: 0.8583 - val_loss: 0.3383 - val_accuracy: 0.8656\n",
      "Epoch 6/15\n",
      "16/16 [==============================] - 6s 355ms/step - loss: 0.3228 - accuracy: 0.8682 - val_loss: 0.3336 - val_accuracy: 0.8698\n",
      "Epoch 7/15\n",
      "16/16 [==============================] - 6s 361ms/step - loss: 0.3131 - accuracy: 0.8722 - val_loss: 0.3188 - val_accuracy: 0.8686\n",
      "Epoch 8/15\n",
      "16/16 [==============================] - 6s 358ms/step - loss: 0.3068 - accuracy: 0.8729 - val_loss: 0.3077 - val_accuracy: 0.8763\n",
      "Epoch 9/15\n",
      "16/16 [==============================] - 6s 355ms/step - loss: 0.2966 - accuracy: 0.8777 - val_loss: 0.3037 - val_accuracy: 0.8759\n",
      "Epoch 10/15\n",
      "16/16 [==============================] - 6s 351ms/step - loss: 0.2909 - accuracy: 0.8805 - val_loss: 0.2980 - val_accuracy: 0.8805\n",
      "Epoch 11/15\n",
      "16/16 [==============================] - 6s 350ms/step - loss: 0.2869 - accuracy: 0.8799 - val_loss: 0.3012 - val_accuracy: 0.8782\n",
      "Epoch 12/15\n",
      "16/16 [==============================] - 6s 349ms/step - loss: 0.2826 - accuracy: 0.8814 - val_loss: 0.3010 - val_accuracy: 0.8748\n",
      "Epoch 13/15\n",
      "16/16 [==============================] - 6s 356ms/step - loss: 0.2818 - accuracy: 0.8846 - val_loss: 0.2891 - val_accuracy: 0.8820\n",
      "Epoch 14/15\n",
      "16/16 [==============================] - 6s 351ms/step - loss: 0.2755 - accuracy: 0.8866 - val_loss: 0.2872 - val_accuracy: 0.8836\n",
      "Epoch 15/15\n",
      "16/16 [==============================] - 6s 352ms/step - loss: 0.2739 - accuracy: 0.8883 - val_loss: 0.2897 - val_accuracy: 0.8820\n"
     ]
    }
   ],
   "source": [
    "# Fit Model and save history\n",
    "history = model.fit(train_gen, epochs=15, validation_data=val_gen)"
   ]
  },
  {
   "cell_type": "code",
   "execution_count": 219,
   "metadata": {},
   "outputs": [
    {
     "data": {
      "image/png": "[encoded data removed]",
      "text/plain": [
       "<Figure size 640x480 with 1 Axes>"
      ]
     },
     "metadata": {},
     "output_type": "display_data"
    },
    {
     "data": {
      "image/png": "[encoded data removed]",
      "text/plain": [
       "<Figure size 640x480 with 1 Axes>"
      ]
     },
     "metadata": {},
     "output_type": "display_data"
    }
   ],
   "source": [
    "# plot loss history using seaborn\n",
    "\n",
    "sns.lineplot(data=pd.DataFrame(history.history)[[\"loss\", \"val_loss\"]])\n",
    "plt.show()\n",
    "\n",
    "# plot accuracy history using seaborn\n",
    "sns.lineplot(data=pd.DataFrame(history.history)[[\"accuracy\", \"val_accuracy\"]])\n",
    "plt.show()"
   ]
  },
  {
   "cell_type": "code",
   "execution_count": 220,
   "metadata": {},
   "outputs": [
    {
     "name": "stdout",
     "output_type": "stream",
     "text": [
      "5/5 [==============================] - 1s 263ms/step - loss: 0.2769 - accuracy: 0.8828\n"
     ]
    },
    {
     "data": {
      "text/plain": [
       "[0.27686941623687744, 0.8828125]"
      ]
     },
     "execution_count": 220,
     "metadata": {},
     "output_type": "execute_result"
    }
   ],
   "source": [
    "model.evaluate(test_gen)"
   ]
  }
 ],
 "metadata": {
  "kernelspec": {
   "display_name": "tensorflow",
   "language": "python",
   "name": "python3"
  },
  "language_info": {
   "codemirror_mode": {
    "name": "ipython",
    "version": 3
   },
   "file_extension": ".py",
   "mimetype": "text/x-python",
   "name": "python",
   "nbconvert_exporter": "python",
   "pygments_lexer": "ipython3",
   "version": "3.11.2"
  }
 },
 "nbformat": 4,
 "nbformat_minor": 2
}
