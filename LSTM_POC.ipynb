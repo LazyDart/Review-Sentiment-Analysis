{
 "cells": [
  {
   "cell_type": "code",
   "execution_count": 1,
   "metadata": {},
   "outputs": [],
   "source": [
    "import os\n",
    "# Required to suppress tensorflow annoying warnings\n",
    "os.environ['TF_CPP_MIN_LOG_LEVEL'] = '2'\n",
    "\n",
    "# Data processing\n",
    "import pandas as pd\n",
    "import numpy as np\n",
    "\n",
    "# Language Models\n",
    "import spacy\n",
    "import gensim\n",
    "\n",
    "# Deep Learning\n",
    "import tensorflow as tf\n",
    "from tensorflow import keras\n",
    "\n",
    "# Preprocessing\n",
    "from sklearn.model_selection import train_test_split\n",
    "from sklearn.preprocessing import LabelEncoder\n",
    "\n",
    "# Visualization\n",
    "import matplotlib.pyplot as plt\n",
    "import seaborn as sns\n",
    "\n",
    "# Regex\n",
    "import re\n"
   ]
  },
  {
   "cell_type": "code",
   "execution_count": 3,
   "metadata": {},
   "outputs": [],
   "source": [
    "# Get scraped data\n",
    "df = pd.read_csv(\"./data/output.csv\")"
   ]
  },
  {
   "cell_type": "markdown",
   "metadata": {},
   "source": [
    "### Data Cleaning"
   ]
  },
  {
   "cell_type": "code",
   "execution_count": 4,
   "metadata": {},
   "outputs": [],
   "source": [
    "# \"review_text\" nan are to be deleted. Other can stay.\n",
    "df = df.dropna(subset=[\"review_text\"])\n",
    "\n",
    "# Remove invalid entries\n",
    "df = df.loc[df[\"entry_date\"] != \"entry_date\"]\n",
    "\n",
    "# Remove duplicate entries\n",
    "df = df.drop_duplicates([\"offer_ref\", \"entry_id\", \"review_text\"]).drop_duplicates(\"review_text\")\n"
   ]
  },
  {
   "cell_type": "code",
   "execution_count": 5,
   "metadata": {},
   "outputs": [],
   "source": [
    "# fix data types\n",
    "df[\"entry_date\"] = pd.to_datetime(df[\"entry_date\"])\n",
    "df[\"purchase_date\"] = pd.to_datetime(df[\"purchase_date\"])\n",
    "df[\"entry_id\"] = df[\"entry_id\"].astype(int)\n",
    "df[\"offer_ref\"] = df[\"offer_ref\"].astype(int)\n",
    "df[\"score\"] = df[\"score\"].astype(float)"
   ]
  },
  {
   "cell_type": "code",
   "execution_count": 6,
   "metadata": {},
   "outputs": [],
   "source": [
    "# Get Sentiment Cases based on score\n",
    "df[\"sentiment\"] = df[\"score\"].apply(lambda x: \"Positive\" if x >= 4 else \"Negative\" if x <= 2 else \"Neutral\")"
   ]
  },
  {
   "cell_type": "code",
   "execution_count": 7,
   "metadata": {},
   "outputs": [],
   "source": [
    "# Remove new_lines and get rid of unnecceary spaces\n",
    "df[\"review_text\"] = df[\"review_text\"].replace(\"\\n\", \" \", regex=True).replace(\"_+\", \" \", regex=True)"
   ]
  },
  {
   "cell_type": "markdown",
   "metadata": {},
   "source": [
    "### Training Data Prep"
   ]
  },
  {
   "cell_type": "code",
   "execution_count": 8,
   "metadata": {},
   "outputs": [],
   "source": [
    "# Get data to train the model on.\n",
    "data_cleaned = df[[\"review_text\", \"sentiment\"]].reset_index(drop=True).copy()"
   ]
  },
  {
   "cell_type": "code",
   "execution_count": 82,
   "metadata": {},
   "outputs": [],
   "source": [
    "# Crude way of replacing all ok's\n",
    "data_cleaned[\"review_text\"] = data_cleaned[\"review_text\"].replace(\"ok\", \"OK\", regex=True)"
   ]
  },
  {
   "cell_type": "code",
   "execution_count": 2,
   "metadata": {},
   "outputs": [],
   "source": [
    "# Get Language Model\n",
    "nlp = spacy.load(\"pl_core_news_lg\")\n",
    "spacy.lang.pl.stop_words.STOP_WORDS.remove(\"ok\")\n",
    "spacy.lang.pl.stop_words.STOP_WORDS.remove(\"nie\")\n"
   ]
  },
  {
   "cell_type": "code",
   "execution_count": 3,
   "metadata": {},
   "outputs": [],
   "source": [
    "# Load Word2Vec Model\n",
    "gensim_model_file_path = \"./gensim models/cbow.v300.m8.hs.mwe.w2v.gensim\"\n",
    "gensim_model = gensim.models.KeyedVectors.load(gensim_model_file_path)"
   ]
  },
  {
   "cell_type": "markdown",
   "metadata": {},
   "source": [
    "### Despite Above Wrangling: Data from data_cleaning script will be used down here. "
   ]
  },
  {
   "cell_type": "code",
   "execution_count": 4,
   "metadata": {},
   "outputs": [],
   "source": [
    "# Target\n",
    "sentiment_provision = pd.read_csv(\"sentiment provision.csv\")\n",
    "\n",
    "# Testing Typo fixing\n",
    "df_no_fix = pd.read_csv(\"Comparison to a Typo fix.csv\")\n",
    "\n",
    "df_typo_fix = pd.read_csv(\"Testing Typo Checking.csv\")\n",
    "\n",
    "# Join Target with data\n",
    "df_no_fix = pd.merge(sentiment_provision, df_no_fix, how=\"right\", on=\"Unnamed: 0\")\n",
    "df_typo_fix = pd.merge(sentiment_provision, df_typo_fix, how=\"right\", on=\"Unnamed: 0\")"
   ]
  },
  {
   "cell_type": "code",
   "execution_count": 5,
   "metadata": {},
   "outputs": [],
   "source": [
    "# TODO Temporary\n",
    "# Join tokenized data and then turn space+punctuation into punctuation\n",
    "df_typo_fix[\"review_text\"] = (df_typo_fix[\"review_text\"]\n",
    "                              .transform(lambda x: \" \".join(x[1:-1].split(\", \")))\n",
    "                              .transform(lambda x: re.sub(\"( )([\\.,])\", lambda match: match.group(2), re.sub(\"'\", \"\", x))))"
   ]
  },
  {
   "cell_type": "code",
   "execution_count": 6,
   "metadata": {},
   "outputs": [],
   "source": [
    "# Dropna\n",
    "df_no_fix = df_no_fix.dropna(subset=[\"review_text\", \"sentiment\"])\n",
    "df_typo_fix = df_typo_fix.dropna(subset=[\"review_text\", \"sentiment\"])"
   ]
  },
  {
   "cell_type": "code",
   "execution_count": 7,
   "metadata": {},
   "outputs": [],
   "source": [
    "# Tokenization on cleaned data\n",
    "df_no_fix[\"review_text\"] = df_no_fix[\"review_text\"].transform(nlp)\n",
    "df_typo_fix[\"review_text\"] = df_typo_fix[\"review_text\"].transform(nlp)"
   ]
  },
  {
   "cell_type": "code",
   "execution_count": 8,
   "metadata": {},
   "outputs": [],
   "source": [
    "# Apply tokenizer to uncleaned data (TAKES ROUGHLY 5 mins!!! on 40K reviews)\n",
    "# data_cleaned[\"review_text\"] = data_cleaned[\"review_text\"].transform(lambda x: nlp(x))"
   ]
  },
  {
   "cell_type": "code",
   "execution_count": 9,
   "metadata": {},
   "outputs": [],
   "source": [
    "df_typo_fix[\"vectored_form\"] = (\n",
    "    df_typo_fix[\"review_text\"]\n",
    "        .transform(lambda x: [[token.vector for token in sentence \n",
    "                                if (not token.is_punct) and (not token.is_stop)] \n",
    "                                for sentence in x.sents])\n",
    "        .transform(lambda x: tf.convert_to_tensor(\n",
    "            [tf.concat([tf.reduce_mean(sentence, 0),\n",
    "                        tf.reduce_max(sentence, 0)], axis=0) \n",
    "                        for sentence in x if len(sentence) > 0]))\n",
    ")"
   ]
  },
  {
   "cell_type": "code",
   "execution_count": 10,
   "metadata": {},
   "outputs": [],
   "source": [
    "df_typo_fix[\"vectored_form_gensim\"] = (\n",
    "    df_typo_fix[\"review_text\"]\n",
    "        .transform(lambda x: [\n",
    "            [gensim_model.get_vector(token.lemma_) if (token.lemma_ in gensim_model.key_to_index) \n",
    "             else np.zeros(300, dtype=np.float32) for token in sentence \n",
    "             if (not token.is_punct) \n",
    "                 and (not token.is_stop)]\n",
    "             for sentence in x.sents])\n",
    "        .transform(lambda x: tf.convert_to_tensor(\n",
    "            [tf.concat([tf.reduce_mean(sentence, 0), \n",
    "                        tf.reduce_max(sentence, 0)], axis=0) \n",
    "                        for sentence in x if len(sentence) > 0]))\n",
    ")"
   ]
  },
  {
   "cell_type": "code",
   "execution_count": 11,
   "metadata": {},
   "outputs": [],
   "source": [
    "# data_cleaned[\"vectored_form\"] = (\n",
    "#     data_cleaned[\"review_text\"]\n",
    "#         .transform(lambda x: [[token.vector for token in sentence \n",
    "#                                 if (not token.is_punct) and (not token.is_stop)]\n",
    "#                                 for sentence in x.sents])\n",
    "#         .transform(lambda x: tf.convert_to_tensor(\n",
    "#             [tf.concat([tf.reduce_mean(sentence, 0), \n",
    "#                         tf.reduce_max(sentence, 0)], axis=0) for sentence in x if len(sentence) > 0]))\n",
    "# )\n",
    "\n",
    "# data_cleaned[\"vectored_form_gensim\"] = (\n",
    "#     data_cleaned[\"review_text\"]\n",
    "#         .transform(lambda x: [\n",
    "#             [gensim_model.get_vector(token.lemma_) if (token.lemma_ in gensim_model.key_to_index) \n",
    "#              else np.zeros(300, dtype=np.float32) for token in sentence \n",
    "#              if (not token.is_punct) \n",
    "#                  and (not token.is_stop)]\n",
    "#              for sentence in x.sents])\n",
    "#         .transform(lambda x: tf.convert_to_tensor(\n",
    "#             [tf.concat([tf.reduce_mean(sentence, 0), \n",
    "#                         tf.reduce_max(sentence, 0)], axis=0) \n",
    "#                         for sentence in x if len(sentence) > 0]))\n",
    "# )\n",
    "\n",
    "# Prepare target for categorical crossentropy\n",
    "# data_cleaned[\"target\"] = data_cleaned[\"sentiment\"].transform(lambda x: 1 if x == \"Positive\" else 0)\n",
    "\n",
    "# # Cleaning Empty sentences.\n",
    "# data_cleaned = data_cleaned[\n",
    "#     data_cleaned[\"review_text\"]\n",
    "#         .transform(lambda x: \n",
    "#                    [[token.lemma_ if (token.lemma_ in gensim_model.key_to_index) else 0 \n",
    "#                      for token in sentence \n",
    "#                      if (not token.is_punct) and (not token.is_stop)] \n",
    "#                      for sentence in x.sents])\n",
    "#         .transform(lambda x: [sentence for sentence in x if len(sentence) > 0])\n",
    "#         .transform(lambda x: len(x)) != 0]"
   ]
  },
  {
   "cell_type": "code",
   "execution_count": 12,
   "metadata": {},
   "outputs": [],
   "source": [
    "# Prepare target for categorical crossentropy\n",
    "# df_no_fix[\"target\"] = df_no_fix[\"sentiment\"].transform(lambda x: 1 if x == \"Positive\" else 0) \n",
    "df_typo_fix[\"target\"] = df_typo_fix[\"sentiment\"].transform(lambda x: 1 if x == \"Positive\" else 0)"
   ]
  },
  {
   "cell_type": "code",
   "execution_count": 13,
   "metadata": {},
   "outputs": [],
   "source": [
    "# df_no_fix = df_no_fix[\n",
    "#     df_no_fix[\"review_text\"]\n",
    "#         .transform(lambda x: \n",
    "#                    [[token.lemma_ if (token.lemma_ in gensim_model.key_to_index) else 0 \n",
    "#                      for token in sentence \n",
    "#                      if (not token.is_punct) and (not token.is_stop)] \n",
    "#                      for sentence in x.sents])\n",
    "#         .transform(lambda x: [sentence for sentence in x if len(sentence) > 0])\n",
    "#         .transform(lambda x: len(x)) != 0].copy()\n",
    "\n",
    "# df_typo_fix = df_typo_fix[\n",
    "#     df_typo_fix[\"review_text\"]\n",
    "#         .transform(lambda x: \n",
    "#                    [[token.lemma_ if (token.lemma_ in gensim_model.key_to_index) else 0 \n",
    "#                      for token in sentence \n",
    "#                      if (not token.is_punct) and (not token.is_stop)] \n",
    "#                      for sentence in x.sents])\n",
    "#         .transform(lambda x: [sentence for sentence in x if len(sentence) > 0])\n",
    "#         .transform(lambda x: len(x)) != 0].copy()"
   ]
  },
  {
   "cell_type": "code",
   "execution_count": 14,
   "metadata": {},
   "outputs": [],
   "source": [
    "class DataGenerator(keras.utils.Sequence):\n",
    "    def __init__(self, x_set, y_set, batch_size):\n",
    "        self.x, self.y = x_set, y_set\n",
    "        self.batch_size = batch_size\n",
    "\n",
    "    def __len__(self):\n",
    "        return int(np.ceil(len(self.x) / float(self.batch_size)))\n",
    "\n",
    "    def __getitem__(self, idx):\n",
    "        batch_x = self.x[idx * self.batch_size:(idx + 1) * self.batch_size] \n",
    "        batch_x = tf.convert_to_tensor([tf.pad(x, [[0, 83 - x.shape[0]], [0, 0]]) for x in batch_x])\n",
    "        batch_y = tf.convert_to_tensor(self.y[idx * self.batch_size:(idx + 1) * self.batch_size])\n",
    "        return batch_x, batch_y"
   ]
  },
  {
   "cell_type": "code",
   "execution_count": 15,
   "metadata": {},
   "outputs": [],
   "source": [
    "df_typo_fix[\"shape\"] = df_typo_fix[\"vectored_form\"].transform(lambda x: x.shape)"
   ]
  },
  {
   "cell_type": "code",
   "execution_count": 16,
   "metadata": {},
   "outputs": [],
   "source": [
    "df_typo_fix = df_typo_fix[df_typo_fix[\"shape\"].transform(lambda x: len(x)) != 1]"
   ]
  },
  {
   "cell_type": "code",
   "execution_count": 23,
   "metadata": {},
   "outputs": [],
   "source": [
    "# Train test split\n",
    "X_train, X_test, y_train, y_test = train_test_split(\n",
    "    df_typo_fix.loc[df_typo_fix[\"sentiment\"].isin([\"Positive\", \"Negative\"]), \"vectored_form\"], \n",
    "    df_typo_fix.loc[df_typo_fix[\"sentiment\"].isin([\"Positive\", \"Negative\"]),\"target\"], \n",
    "    test_size=0.2, \n",
    "    random_state=42\n",
    ")\n",
    "\n",
    "# Further split to get validation set\n",
    "X_train, X_val, y_train, y_val = train_test_split(X_train, y_train, test_size=0.1, random_state=41)\n",
    "\n",
    "train_gen = DataGenerator(X_train, y_train, 1800)\n",
    "val_gen = DataGenerator(X_val, y_val, 1800)\n",
    "test_gen = DataGenerator(X_test, y_test, 1800)"
   ]
  },
  {
   "cell_type": "code",
   "execution_count": 24,
   "metadata": {},
   "outputs": [
    {
     "name": "stdout",
     "output_type": "stream",
     "text": [
      "Model: \"sequential\"\n",
      "_________________________________________________________________\n",
      " Layer (type)                Output Shape              Param #   \n",
      "=================================================================\n",
      " dropout (Dropout)           (None, 83, 600)           0         \n",
      "                                                                 \n",
      " bidirectional (Bidirectiona  (None, 512)              1755136   \n",
      " l)                                                              \n",
      "                                                                 \n",
      " dropout_1 (Dropout)         (None, 512)               0         \n",
      "                                                                 \n",
      " dense (Dense)               (None, 16)                8208      \n",
      "                                                                 \n",
      " dense_1 (Dense)             (None, 1)                 17        \n",
      "                                                                 \n",
      "=================================================================\n",
      "Total params: 1,763,361\n",
      "Trainable params: 1,763,361\n",
      "Non-trainable params: 0\n",
      "_________________________________________________________________\n"
     ]
    }
   ],
   "source": [
    "\n",
    "\n",
    "# Clear session\n",
    "keras.backend.clear_session()\n",
    "\n",
    "# model initialization\n",
    "model = keras.Sequential([\n",
    "    keras.layers.Dropout(0.1, input_shape=(83, 600)),\n",
    "    keras.layers.Bidirectional(keras.layers.LSTM(256)),\n",
    "    keras.layers.Dropout(0.2, ),\n",
    "    keras.layers.Dense(16, activation='relu'),\n",
    "    # keras.layers.Dense(8, activation='relu'),\n",
    "    keras.layers.Dense(1, activation='sigmoid')\n",
    "])\n",
    "\n",
    "# compile model with loss suited for 2 categories: \"Positive\", \"Negative\"\n",
    "model.compile(loss='binary_crossentropy',\n",
    "              optimizer=tf.optimizers.Adam(learning_rate=0.0001),\n",
    "              metrics=['accuracy'],\n",
    ")\n",
    "\n",
    "# model summary\n",
    "model.summary()"
   ]
  },
  {
   "cell_type": "code",
   "execution_count": 25,
   "metadata": {},
   "outputs": [
    {
     "name": "stdout",
     "output_type": "stream",
     "text": [
      "Epoch 1/15\n",
      " 2/19 [==>...........................] - ETA: 2s - loss: 0.6930 - accuracy: 0.5363  "
     ]
    },
    {
     "ename": "",
     "evalue": "",
     "output_type": "error",
     "traceback": [
      "\u001b[1;31mThe Kernel crashed while executing code in the the current cell or a previous cell. Please review the code in the cell(s) to identify a possible cause of the failure. Click <a href='https://aka.ms/vscodeJupyterKernelCrash'>here</a> for more info. View Jupyter <a href='command:jupyter.viewOutput'>log</a> for further details."
     ]
    }
   ],
   "source": [
    "# Fit Model and save history\n",
    "history = model.fit(train_gen, epochs=15, validation_data=val_gen)"
   ]
  },
  {
   "cell_type": "code",
   "execution_count": null,
   "metadata": {},
   "outputs": [
    {
     "data": {
      "image/png": "[encoded data removed]",
      "text/plain": [
       "<Figure size 640x480 with 1 Axes>"
      ]
     },
     "metadata": {},
     "output_type": "display_data"
    },
    {
     "data": {
      "image/png": "[encoded data removed]",
      "text/plain": [
       "<Figure size 640x480 with 1 Axes>"
      ]
     },
     "metadata": {},
     "output_type": "display_data"
    }
   ],
   "source": [
    "# plot loss history using seaborn\n",
    "\n",
    "sns.lineplot(data=pd.DataFrame(history.history)[[\"loss\", \"val_loss\"]])\n",
    "plt.show()\n",
    "\n",
    "# plot accuracy history using seaborn\n",
    "sns.lineplot(data=pd.DataFrame(history.history)[[\"accuracy\", \"val_accuracy\"]])\n",
    "plt.show()"
   ]
  },
  {
   "cell_type": "code",
   "execution_count": null,
   "metadata": {},
   "outputs": [
    {
     "name": "stdout",
     "output_type": "stream",
     "text": [
      "6/6 [==============================] - 2s 335ms/step - loss: 0.2529 - accuracy: 0.8997\n"
     ]
    },
    {
     "data": {
      "text/plain": [
       "[0.25286972522735596, 0.8997187614440918]"
      ]
     },
     "execution_count": 21,
     "metadata": {},
     "output_type": "execute_result"
    }
   ],
   "source": [
    "model.evaluate(test_gen)"
   ]
  }
 ],
 "metadata": {
  "kernelspec": {
   "display_name": "tensorflow",
   "language": "python",
   "name": "python3"
  },
  "language_info": {
   "codemirror_mode": {
    "name": "ipython",
    "version": 3
   },
   "file_extension": ".py",
   "mimetype": "text/x-python",
   "name": "python",
   "nbconvert_exporter": "python",
   "pygments_lexer": "ipython3",
   "version": "3.11.2"
  }
 },
 "nbformat": 4,
 "nbformat_minor": 2
}
