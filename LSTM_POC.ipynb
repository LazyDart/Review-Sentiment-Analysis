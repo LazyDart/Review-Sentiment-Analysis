{
 "cells": [
  {
   "cell_type": "code",
   "execution_count": 27,
   "metadata": {},
   "outputs": [],
   "source": [
    "import os\n",
    "# Reqiured to suppress tensorflow annoying warnings\n",
    "os.environ['TF_CPP_MIN_LOG_LEVEL'] = '2'\n",
    "\n",
    "import pandas as pd\n",
    "import numpy as np\n",
    "\n",
    "import spacy\n",
    "import gensim\n",
    "import tensorflow as tf\n",
    "from tensorflow import keras\n",
    "\n",
    "from sklearn.model_selection import train_test_split\n",
    "from sklearn.preprocessing import LabelEncoder\n",
    "\n",
    "import matplotlib.pyplot as plt\n",
    "import seaborn as sns\n",
    "\n",
    "import re\n"
   ]
  },
  {
   "cell_type": "code",
   "execution_count": 3,
   "metadata": {},
   "outputs": [],
   "source": [
    "df = pd.read_csv(\"./data/output.csv\")"
   ]
  },
  {
   "cell_type": "markdown",
   "metadata": {},
   "source": [
    "### Data Cleaning"
   ]
  },
  {
   "cell_type": "code",
   "execution_count": 4,
   "metadata": {},
   "outputs": [],
   "source": [
    "# \"review_text\" nan are to be deleted. Other can stay.\n",
    "df = df.dropna(subset=[\"review_text\"])\n",
    "\n",
    "# Remove invalid entries\n",
    "df = df.loc[df[\"entry_date\"] != \"entry_date\"]\n",
    "\n",
    "# Remove duplicate entries\n",
    "df = df.drop_duplicates([\"offer_ref\", \"entry_id\", \"review_text\"]).drop_duplicates(\"review_text\")\n"
   ]
  },
  {
   "cell_type": "code",
   "execution_count": 5,
   "metadata": {},
   "outputs": [],
   "source": [
    "# fix data types\n",
    "df[\"entry_date\"] = pd.to_datetime(df[\"entry_date\"])\n",
    "df[\"purchase_date\"] = pd.to_datetime(df[\"purchase_date\"])\n",
    "df[\"entry_id\"] = df[\"entry_id\"].astype(int)\n",
    "df[\"offer_ref\"] = df[\"offer_ref\"].astype(int)\n",
    "df[\"score\"] = df[\"score\"].astype(float)"
   ]
  },
  {
   "cell_type": "code",
   "execution_count": 6,
   "metadata": {},
   "outputs": [],
   "source": [
    "# Get Sentiment Cases based on score\n",
    "df[\"sentiment\"] = df[\"score\"].apply(lambda x: \"Positive\" if x >= 4 else \"Negative\" if x <= 2 else \"Neutral\")"
   ]
  },
  {
   "cell_type": "code",
   "execution_count": 7,
   "metadata": {},
   "outputs": [],
   "source": [
    "df[\"review_text\"] = df[\"review_text\"].replace(\"\\n\", \" \", regex=True).replace(\"_+\", \" \", regex=True)"
   ]
  },
  {
   "cell_type": "markdown",
   "metadata": {},
   "source": [
    "### Training Data Prep"
   ]
  },
  {
   "cell_type": "code",
   "execution_count": 8,
   "metadata": {},
   "outputs": [],
   "source": [
    "# Get data to train the model on.\n",
    "data_cleaned = df[[\"review_text\", \"sentiment\"]].reset_index(drop=True).copy()"
   ]
  },
  {
   "cell_type": "code",
   "execution_count": 34,
   "metadata": {},
   "outputs": [],
   "source": [
    "# Get Language Model\n",
    "nlp = spacy.load(\"pl_core_news_lg\")\n",
    "spacy.lang.pl.stop_words.STOP_WORDS.remove(\"ok\")\n",
    "spacy.lang.pl.stop_words.STOP_WORDS.remove(\"nie\")\n"
   ]
  },
  {
   "cell_type": "code",
   "execution_count": 43,
   "metadata": {},
   "outputs": [],
   "source": [
    "gensim_model_file_path = \"./gensim models/cbow.v300.m8.hs.mwe.w2v.gensim\"\n",
    "gensim_model = gensim.models.KeyedVectors.load(gensim_model_file_path)"
   ]
  },
  {
   "cell_type": "code",
   "execution_count": 82,
   "metadata": {},
   "outputs": [],
   "source": [
    "data_cleaned[\"review_text\"] = data_cleaned[\"review_text\"].replace(\"ok\", \"OK\", regex=True)"
   ]
  },
  {
   "cell_type": "code",
   "execution_count": 65,
   "metadata": {},
   "outputs": [],
   "source": [
    "sentiment_provision = pd.read_csv(\"sentiment provision.csv\")"
   ]
  },
  {
   "cell_type": "code",
   "execution_count": 10,
   "metadata": {},
   "outputs": [],
   "source": [
    "# Testing Typo fixing\n",
    "df1 = pd.read_csv(\"Comparison to a Typo fix.csv\")\n",
    "\n",
    "df2 = pd.read_csv(\"Testing Typo Checking.csv\")"
   ]
  },
  {
   "cell_type": "code",
   "execution_count": 69,
   "metadata": {},
   "outputs": [],
   "source": [
    "df1 = pd.merge(sentiment_provision, df1, how=\"right\", on=\"Unnamed: 0\")"
   ]
  },
  {
   "cell_type": "code",
   "execution_count": 70,
   "metadata": {},
   "outputs": [],
   "source": [
    "df2 = pd.merge(sentiment_provision, df2, how=\"right\", on=\"Unnamed: 0\")"
   ]
  },
  {
   "cell_type": "code",
   "execution_count": 32,
   "metadata": {},
   "outputs": [],
   "source": [
    "df2[\"review_text\"] = df2[\"review_text\"].transform(lambda x: \" \".join(x[1:-1].split(\", \"))).transform(lambda x: re.sub(\" [\\.,]\", \".\", re.sub(\"'\", \"\", x)))"
   ]
  },
  {
   "cell_type": "code",
   "execution_count": 38,
   "metadata": {},
   "outputs": [],
   "source": [
    "df1 = df1.dropna(subset=[\"review_text\", \"sentiment\"])\n",
    "df2 = df2.dropna(subset=[\"review_text\", \"sentiment\"])"
   ]
  },
  {
   "cell_type": "code",
   "execution_count": 39,
   "metadata": {},
   "outputs": [],
   "source": [
    "df1[\"review_text\"] = df1[\"review_text\"].transform(nlp)\n",
    "df2[\"review_text\"] = df2[\"review_text\"].transform(nlp)"
   ]
  },
  {
   "cell_type": "code",
   "execution_count": 83,
   "metadata": {},
   "outputs": [],
   "source": [
    "# Apply tokenizer (TAKES ROUGHLY 5 mins!!! on 40K reviews)\n",
    "data_cleaned[\"review_text\"] = data_cleaned[\"review_text\"].transform(lambda x: nlp(x))"
   ]
  },
  {
   "cell_type": "code",
   "execution_count": 125,
   "metadata": {},
   "outputs": [],
   "source": [
    "# result = tf.convert_to_tensor([[gensim_model.get_vector(token.lemma_) if (token.lemma_ in gensim_model.key_to_index) else np.zeros(300, dtype=np.float32) for token in sentence if (not token.is_punct) and (not token.is_stop)] for sentence in data_cleaned['review_text'].iloc[2].sents][0])"
   ]
  },
  {
   "cell_type": "code",
   "execution_count": 126,
   "metadata": {},
   "outputs": [],
   "source": [
    "# tf.concat([tf.reduce_mean(result, 0), tf.reduce_max(result, 0)], axis=0)"
   ]
  },
  {
   "cell_type": "code",
   "execution_count": 64,
   "metadata": {},
   "outputs": [
    {
     "data": {
      "text/plain": [
       "<tf.Tensor: shape=(3, 600), dtype=float32, numpy=\n",
       "array([[-0.54847497, -0.7139175 ,  0.57976246, ...,  1.349     ,\n",
       "         0.113     ,  1.5891    ],\n",
       "       [ 0.062555  , -0.39986128,  0.39750004, ...,  2.8466    ,\n",
       "         2.4204    ,  1.0894    ],\n",
       "       [-0.22493286, -0.13394716, -0.7418913 , ...,  2.8028    ,\n",
       "         1.6811    ,  0.66654   ]], dtype=float32)>"
      ]
     },
     "execution_count": 64,
     "metadata": {},
     "output_type": "execute_result"
    }
   ],
   "source": [
    "df1[\"vectored_form\"].iloc[1110]"
   ]
  },
  {
   "cell_type": "code",
   "execution_count": 40,
   "metadata": {},
   "outputs": [],
   "source": [
    "df1[\"vectored_form\"] = df1[\"review_text\"].transform(lambda x: [[token.vector for token in sentence if (not token.is_punct) and (not token.is_stop)] for sentence in x.sents]).transform(lambda x: tf.convert_to_tensor([tf.concat([tf.reduce_mean(sentence, 0), tf.reduce_max(sentence, 0)], axis=0) for sentence in x if len(sentence) > 0]))\n",
    "df2[\"vectored_form\"] = df2[\"review_text\"].transform(lambda x: [[token.vector for token in sentence if (not token.is_punct) and (not token.is_stop)] for sentence in x.sents]).transform(lambda x: tf.convert_to_tensor([tf.concat([tf.reduce_mean(sentence, 0), tf.reduce_max(sentence, 0)], axis=0) for sentence in x if len(sentence) > 0]))"
   ]
  },
  {
   "cell_type": "code",
   "execution_count": 56,
   "metadata": {},
   "outputs": [],
   "source": [
    "df1[\"vectored_form_gensim\"] = df1[\"review_text\"].transform(lambda x: [[gensim_model.get_vector(token.lemma_) if (token.lemma_ in gensim_model.key_to_index) else np.zeros(300, dtype=np.float32) for token in sentence if (not token.is_punct) and (not token.is_stop)] for sentence in x.sents]).transform(lambda x: tf.convert_to_tensor([tf.concat([tf.reduce_mean(sentence, 0), tf.reduce_max(sentence, 0)], axis=0) for sentence in x if len(sentence) > 0]))\n",
    "df2[\"vectored_form_gensim\"] = df2[\"review_text\"].transform(lambda x: [[gensim_model.get_vector(token.lemma_) if (token.lemma_ in gensim_model.key_to_index) else np.zeros(300, dtype=np.float32) for token in sentence if (not token.is_punct) and (not token.is_stop)] for sentence in x.sents]).transform(lambda x: tf.convert_to_tensor([tf.concat([tf.reduce_mean(sentence, 0), tf.reduce_max(sentence, 0)], axis=0) for sentence in x if len(sentence) > 0]))\n"
   ]
  },
  {
   "cell_type": "code",
   "execution_count": 127,
   "metadata": {},
   "outputs": [],
   "source": [
    "data_cleaned[\"vectored_form\"] = data_cleaned[\"review_text\"].transform(lambda x: [[token.vector for token in sentence if (not token.is_punct) and (not token.is_stop)] for sentence in x.sents]).transform(lambda x: tf.convert_to_tensor([tf.concat([tf.reduce_mean(sentence, 0), tf.reduce_max(sentence, 0)], axis=0) for sentence in x if len(sentence) > 0]))\n",
    "\n",
    "# (\n",
    "#     data_cleaned[\"review_text\"].transform(lambda x: # x is a Doc object\n",
    "#         tf.convert_to_tensor( # calculate mean of word vectors for each sentence. Tensors have different number of sentences.\n",
    "#             [tf.reduce_mean(tf.constant([token.vector for token in sentence if (not token.is_stop) and (not token.is_punct)], dtype=tf.float64), 0) for sentence in x.sents]\n",
    "#         )\n",
    "#     )\n",
    "# )"
   ]
  },
  {
   "cell_type": "code",
   "execution_count": 128,
   "metadata": {},
   "outputs": [],
   "source": [
    "data_cleaned[\"vectored_form_gensim\"] = data_cleaned[\"review_text\"].transform(lambda x: [[gensim_model.get_vector(token.lemma_) if (token.lemma_ in gensim_model.key_to_index) else np.zeros(300, dtype=np.float32) for token in sentence if (not token.is_punct) and (not token.is_stop)] for sentence in x.sents]).transform(lambda x: tf.convert_to_tensor([tf.concat([tf.reduce_mean(sentence, 0), tf.reduce_max(sentence, 0)], axis=0) for sentence in x if len(sentence) > 0]))\n",
    "# (\n",
    "#     data_cleaned[\"review_text\"].transform(lambda x: # x is a Doc object\n",
    "#         tf.convert_to_tensor( # calculate mean of word vectors for each sentence. Tensors have different number of sentences.\n",
    "#             [tf.reduce_mean(tf.constant([gensim_model.get_vector(token.lemma_) if token.lemma_ in gensim_model.key_to_index else np.zeros(300, dtype=np.float32) for token in x if (not token.is_stop) and (not token.is_punct)], dtype=tf.float64), 0) for sentence in x.sents]\n",
    "#         )\n",
    "#     )\n",
    "# )"
   ]
  },
  {
   "cell_type": "code",
   "execution_count": 71,
   "metadata": {},
   "outputs": [],
   "source": [
    "# Prepare target for categorical crossentropy\n",
    "data_cleaned[\"target\"] = data_cleaned[\"sentiment\"].transform(lambda x: 1 if x == \"Positive\" else 0) #LabelEncoder().fit_transform(data_cleaned[\"sentiment\"])"
   ]
  },
  {
   "cell_type": "code",
   "execution_count": 84,
   "metadata": {},
   "outputs": [],
   "source": [
    "# Prepare target for categorical crossentropy\n",
    "df1[\"target\"] = df1[\"sentiment\"].transform(lambda x: 1 if x == \"Positive\" else 0) #LabelEncoder().fit_transform(data_cleaned[\"sentiment\"])\n",
    "df2[\"target\"] = df2[\"sentiment\"].transform(lambda x: 1 if x == \"Positive\" else 0) #LabelEncoder().fit_transform(data_cleaned[\"sentiment\"])"
   ]
  },
  {
   "cell_type": "code",
   "execution_count": 198,
   "metadata": {},
   "outputs": [],
   "source": [
    "data_cleaned = data_cleaned[data_cleaned[\"review_text\"].transform(lambda x: [[token.lemma_ if (token.lemma_ in gensim_model.key_to_index) else 0 for token in sentence if (not token.is_punct) and (not token.is_stop)] for sentence in x.sents]).transform(lambda x: [sentence for sentence in x if len(sentence) > 0]).transform(lambda x: len(x)) != 0]"
   ]
  },
  {
   "cell_type": "code",
   "execution_count": 83,
   "metadata": {},
   "outputs": [],
   "source": [
    "df1 = df1[df1[\"review_text\"].transform(lambda x: [[token.lemma_ if (token.lemma_ in gensim_model.key_to_index) else 0 for token in sentence if (not token.is_punct) and (not token.is_stop)] for sentence in x.sents]).transform(lambda x: [sentence for sentence in x if len(sentence) > 0]).transform(lambda x: len(x)) != 0]\n",
    "df2 = df2[df2[\"review_text\"].transform(lambda x: [[token.lemma_ if (token.lemma_ in gensim_model.key_to_index) else 0 for token in sentence if (not token.is_punct) and (not token.is_stop)] for sentence in x.sents]).transform(lambda x: [sentence for sentence in x if len(sentence) > 0]).transform(lambda x: len(x)) != 0]"
   ]
  },
  {
   "cell_type": "code",
   "execution_count": 55,
   "metadata": {},
   "outputs": [
    {
     "data": {
      "text/html": [
       "<div>\n",
       "<style scoped>\n",
       "    .dataframe tbody tr th:only-of-type {\n",
       "        vertical-align: middle;\n",
       "    }\n",
       "\n",
       "    .dataframe tbody tr th {\n",
       "        vertical-align: top;\n",
       "    }\n",
       "\n",
       "    .dataframe thead th {\n",
       "        text-align: right;\n",
       "    }\n",
       "</style>\n",
       "<table border=\"1\" class=\"dataframe\">\n",
       "  <thead>\n",
       "    <tr style=\"text-align: right;\">\n",
       "      <th></th>\n",
       "      <th>Unnamed: 0</th>\n",
       "      <th>sentiment</th>\n",
       "      <th>review_text</th>\n",
       "      <th>vectored_form</th>\n",
       "      <th>target</th>\n",
       "    </tr>\n",
       "  </thead>\n",
       "  <tbody>\n",
       "    <tr>\n",
       "      <th>0</th>\n",
       "      <td>0</td>\n",
       "      <td>Negative</td>\n",
       "      <td>(😑, 😑)</td>\n",
       "      <td>((tf.Tensor(0.0, shape=(), dtype=float32), tf....</td>\n",
       "      <td>0</td>\n",
       "    </tr>\n",
       "    <tr>\n",
       "      <th>1</th>\n",
       "      <td>1</td>\n",
       "      <td>Negative</td>\n",
       "      <td>(Lekkie, i, jak, jesteś, na, kuligu, to, szypk...</td>\n",
       "      <td>((tf.Tensor(-0.6784652, shape=(), dtype=float3...</td>\n",
       "      <td>0</td>\n",
       "    </tr>\n",
       "    <tr>\n",
       "      <th>2</th>\n",
       "      <td>2</td>\n",
       "      <td>Negative</td>\n",
       "      <td>(Niestety, ,, zamiast, opony, otrzymałam, ping...</td>\n",
       "      <td>((tf.Tensor(-0.38125747, shape=(), dtype=float...</td>\n",
       "      <td>0</td>\n",
       "    </tr>\n",
       "    <tr>\n",
       "      <th>3</th>\n",
       "      <td>3</td>\n",
       "      <td>Neutral</td>\n",
       "      <td>(Mogły, być, estetyczniej, wykonane, .)</td>\n",
       "      <td>((tf.Tensor(0.280051, shape=(), dtype=float32)...</td>\n",
       "      <td>0</td>\n",
       "    </tr>\n",
       "    <tr>\n",
       "      <th>4</th>\n",
       "      <td>4</td>\n",
       "      <td>Positive</td>\n",
       "      <td>(Bardzo, dobry)</td>\n",
       "      <td>((tf.Tensor(1.5159, shape=(), dtype=float32), ...</td>\n",
       "      <td>1</td>\n",
       "    </tr>\n",
       "    <tr>\n",
       "      <th>...</th>\n",
       "      <td>...</td>\n",
       "      <td>...</td>\n",
       "      <td>...</td>\n",
       "      <td>...</td>\n",
       "      <td>...</td>\n",
       "    </tr>\n",
       "    <tr>\n",
       "      <th>24015</th>\n",
       "      <td>43115</td>\n",
       "      <td>Positive</td>\n",
       "      <td>(Jeszcze, do, mnie, nie, dotarła)</td>\n",
       "      <td>((tf.Tensor(-3.0444002, shape=(), dtype=float3...</td>\n",
       "      <td>1</td>\n",
       "    </tr>\n",
       "    <tr>\n",
       "      <th>24016</th>\n",
       "      <td>43117</td>\n",
       "      <td>Positive</td>\n",
       "      <td>(Bardzo, głośna, i, z, wadami, produkcyjnymi, ...</td>\n",
       "      <td>((tf.Tensor(1.0512, shape=(), dtype=float32), ...</td>\n",
       "      <td>1</td>\n",
       "    </tr>\n",
       "    <tr>\n",
       "      <th>24017</th>\n",
       "      <td>43118</td>\n",
       "      <td>Positive</td>\n",
       "      <td>(Pralka, popsuła, się,  , dnia, !, podczas, pr...</td>\n",
       "      <td>((tf.Tensor(-1.6189749, shape=(), dtype=float3...</td>\n",
       "      <td>1</td>\n",
       "    </tr>\n",
       "    <tr>\n",
       "      <th>24018</th>\n",
       "      <td>43120</td>\n",
       "      <td>Positive</td>\n",
       "      <td>(Fajnie, ale, za, drogie)</td>\n",
       "      <td>((tf.Tensor(-0.0023899972, shape=(), dtype=flo...</td>\n",
       "      <td>1</td>\n",
       "    </tr>\n",
       "    <tr>\n",
       "      <th>24019</th>\n",
       "      <td>43122</td>\n",
       "      <td>Positive</td>\n",
       "      <td>(Nawilżacz, spełnia, moje, oczekiwania, .)</td>\n",
       "      <td>((tf.Tensor(1.0747334, shape=(), dtype=float32...</td>\n",
       "      <td>1</td>\n",
       "    </tr>\n",
       "  </tbody>\n",
       "</table>\n",
       "<p>23913 rows × 5 columns</p>\n",
       "</div>"
      ],
      "text/plain": [
       "       Unnamed: 0 sentiment   \n",
       "0               0  Negative  \\\n",
       "1               1  Negative   \n",
       "2               2  Negative   \n",
       "3               3   Neutral   \n",
       "4               4  Positive   \n",
       "...           ...       ...   \n",
       "24015       43115  Positive   \n",
       "24016       43117  Positive   \n",
       "24017       43118  Positive   \n",
       "24018       43120  Positive   \n",
       "24019       43122  Positive   \n",
       "\n",
       "                                             review_text   \n",
       "0                                                 (😑, 😑)  \\\n",
       "1      (Lekkie, i, jak, jesteś, na, kuligu, to, szypk...   \n",
       "2      (Niestety, ,, zamiast, opony, otrzymałam, ping...   \n",
       "3                (Mogły, być, estetyczniej, wykonane, .)   \n",
       "4                                        (Bardzo, dobry)   \n",
       "...                                                  ...   \n",
       "24015                  (Jeszcze, do, mnie, nie, dotarła)   \n",
       "24016  (Bardzo, głośna, i, z, wadami, produkcyjnymi, ...   \n",
       "24017  (Pralka, popsuła, się,  , dnia, !, podczas, pr...   \n",
       "24018                          (Fajnie, ale, za, drogie)   \n",
       "24019         (Nawilżacz, spełnia, moje, oczekiwania, .)   \n",
       "\n",
       "                                           vectored_form  target  \n",
       "0      ((tf.Tensor(0.0, shape=(), dtype=float32), tf....       0  \n",
       "1      ((tf.Tensor(-0.6784652, shape=(), dtype=float3...       0  \n",
       "2      ((tf.Tensor(-0.38125747, shape=(), dtype=float...       0  \n",
       "3      ((tf.Tensor(0.280051, shape=(), dtype=float32)...       0  \n",
       "4      ((tf.Tensor(1.5159, shape=(), dtype=float32), ...       1  \n",
       "...                                                  ...     ...  \n",
       "24015  ((tf.Tensor(-3.0444002, shape=(), dtype=float3...       1  \n",
       "24016  ((tf.Tensor(1.0512, shape=(), dtype=float32), ...       1  \n",
       "24017  ((tf.Tensor(-1.6189749, shape=(), dtype=float3...       1  \n",
       "24018  ((tf.Tensor(-0.0023899972, shape=(), dtype=flo...       1  \n",
       "24019  ((tf.Tensor(1.0747334, shape=(), dtype=float32...       1  \n",
       "\n",
       "[23913 rows x 5 columns]"
      ]
     },
     "execution_count": 55,
     "metadata": {},
     "output_type": "execute_result"
    }
   ],
   "source": [
    "df1"
   ]
  },
  {
   "cell_type": "code",
   "execution_count": 45,
   "metadata": {},
   "outputs": [],
   "source": [
    "class DataGenerator(keras.utils.Sequence):\n",
    "    def __init__(self, x_set, y_set, batch_size):\n",
    "        self.x, self.y = x_set, y_set\n",
    "        self.batch_size = batch_size\n",
    "\n",
    "    def __len__(self):\n",
    "        return int(np.ceil(len(self.x) / float(self.batch_size)))\n",
    "\n",
    "    def __getitem__(self, idx):\n",
    "        batch_x = self.x[idx * self.batch_size:(idx + 1) * self.batch_size] \n",
    "        batch_x = tf.convert_to_tensor([tf.pad(x, [[0, 90 - x.shape[0]], [0, 0]]) for x in batch_x])\n",
    "        batch_y = tf.convert_to_tensor(self.y[idx * self.batch_size:(idx + 1) * self.batch_size]) #tf.keras.utils.to_categorical(self.y[idx * self.batch_size:(idx + 1) * self.batch_size], num_classes=3)\n",
    "        return batch_x, batch_y"
   ]
  },
  {
   "cell_type": "code",
   "execution_count": 200,
   "metadata": {},
   "outputs": [],
   "source": [
    "# Check how many zero tensors are present in data\n",
    "# result = data_cleaned[\"vectored_form_gensim\"].transform(lambda x: tf.reduce_all([tf.reduce_sum(y) == 0 for y in x]))"
   ]
  },
  {
   "cell_type": "code",
   "execution_count": 201,
   "metadata": {},
   "outputs": [],
   "source": [
    "# result_1 = data_cleaned[\"vectored_form\"].transform(lambda x: tf.reduce_all([tf.reduce_sum(y) == 0 for y in x]))"
   ]
  },
  {
   "cell_type": "code",
   "execution_count": 202,
   "metadata": {},
   "outputs": [],
   "source": [
    "# data_cleaned[\"vectored_form\"].to"
   ]
  },
  {
   "cell_type": "code",
   "execution_count": 203,
   "metadata": {},
   "outputs": [],
   "source": [
    "# tf.pad(data_cleaned[\"vectored_form\"].iloc[11002], [[0, 90 - data_cleaned[\"vectored_form\"].iloc[11002].shape[0]], [0, 0]])"
   ]
  },
  {
   "cell_type": "code",
   "execution_count": 204,
   "metadata": {},
   "outputs": [],
   "source": [
    "# data_cleaned[\"vectored_form\"].transform(lambda x: tf.pad(x, [[0, 90 - x.shape[0]], [0, 0]]))"
   ]
  },
  {
   "cell_type": "code",
   "execution_count": 205,
   "metadata": {},
   "outputs": [],
   "source": [
    "# tfds = tf.data.Dataset.from_tensor_slices((data_cleaned[\"vectored_form\"], data_cleaned[\"target\"]))"
   ]
  },
  {
   "cell_type": "code",
   "execution_count": 206,
   "metadata": {},
   "outputs": [
    {
     "data": {
      "text/html": [
       "<div>\n",
       "<style scoped>\n",
       "    .dataframe tbody tr th:only-of-type {\n",
       "        vertical-align: middle;\n",
       "    }\n",
       "\n",
       "    .dataframe tbody tr th {\n",
       "        vertical-align: top;\n",
       "    }\n",
       "\n",
       "    .dataframe thead th {\n",
       "        text-align: right;\n",
       "    }\n",
       "</style>\n",
       "<table border=\"1\" class=\"dataframe\">\n",
       "  <thead>\n",
       "    <tr style=\"text-align: right;\">\n",
       "      <th></th>\n",
       "      <th>target</th>\n",
       "      <th>sentiment</th>\n",
       "    </tr>\n",
       "  </thead>\n",
       "  <tbody>\n",
       "    <tr>\n",
       "      <th>0</th>\n",
       "      <td>0</td>\n",
       "      <td>Negative</td>\n",
       "    </tr>\n",
       "    <tr>\n",
       "      <th>1</th>\n",
       "      <td>0</td>\n",
       "      <td>Negative</td>\n",
       "    </tr>\n",
       "    <tr>\n",
       "      <th>2</th>\n",
       "      <td>0</td>\n",
       "      <td>Negative</td>\n",
       "    </tr>\n",
       "    <tr>\n",
       "      <th>3</th>\n",
       "      <td>0</td>\n",
       "      <td>Neutral</td>\n",
       "    </tr>\n",
       "    <tr>\n",
       "      <th>4</th>\n",
       "      <td>1</td>\n",
       "      <td>Positive</td>\n",
       "    </tr>\n",
       "    <tr>\n",
       "      <th>...</th>\n",
       "      <td>...</td>\n",
       "      <td>...</td>\n",
       "    </tr>\n",
       "    <tr>\n",
       "      <th>43121</th>\n",
       "      <td>1</td>\n",
       "      <td>Positive</td>\n",
       "    </tr>\n",
       "    <tr>\n",
       "      <th>43122</th>\n",
       "      <td>1</td>\n",
       "      <td>Positive</td>\n",
       "    </tr>\n",
       "    <tr>\n",
       "      <th>43123</th>\n",
       "      <td>1</td>\n",
       "      <td>Positive</td>\n",
       "    </tr>\n",
       "    <tr>\n",
       "      <th>43124</th>\n",
       "      <td>1</td>\n",
       "      <td>Positive</td>\n",
       "    </tr>\n",
       "    <tr>\n",
       "      <th>43125</th>\n",
       "      <td>1</td>\n",
       "      <td>Positive</td>\n",
       "    </tr>\n",
       "  </tbody>\n",
       "</table>\n",
       "<p>42989 rows × 2 columns</p>\n",
       "</div>"
      ],
      "text/plain": [
       "       target sentiment\n",
       "0           0  Negative\n",
       "1           0  Negative\n",
       "2           0  Negative\n",
       "3           0   Neutral\n",
       "4           1  Positive\n",
       "...       ...       ...\n",
       "43121       1  Positive\n",
       "43122       1  Positive\n",
       "43123       1  Positive\n",
       "43124       1  Positive\n",
       "43125       1  Positive\n",
       "\n",
       "[42989 rows x 2 columns]"
      ]
     },
     "execution_count": 206,
     "metadata": {},
     "output_type": "execute_result"
    }
   ],
   "source": [
    "data_cleaned[[\"target\", \"sentiment\"]]"
   ]
  },
  {
   "cell_type": "code",
   "execution_count": 85,
   "metadata": {},
   "outputs": [],
   "source": [
    "# Train test split\n",
    "X_train, X_test, y_train, y_test = train_test_split(\n",
    "    df2.loc[df2[\"sentiment\"].isin([\"Positive\", \"Negative\"]), \"vectored_form\"], \n",
    "    df2.loc[df2[\"sentiment\"].isin([\"Positive\", \"Negative\"]),\"target\"], \n",
    "    test_size=0.2, \n",
    "    random_state=42\n",
    ")\n",
    "\n",
    "# Further split to get validation set\n",
    "X_train, X_val, y_train, y_val = train_test_split(X_train, y_train, test_size=0.1, random_state=42)\n",
    "\n",
    "train_gen = DataGenerator(X_train, y_train, 1500)\n",
    "val_gen = DataGenerator(X_val, y_val, 1500)\n",
    "test_gen = DataGenerator(X_test, y_test, 1500)"
   ]
  },
  {
   "cell_type": "code",
   "execution_count": 86,
   "metadata": {},
   "outputs": [
    {
     "name": "stdout",
     "output_type": "stream",
     "text": [
      "Model: \"sequential\"\n",
      "_________________________________________________________________\n",
      " Layer (type)                Output Shape              Param #   \n",
      "=================================================================\n",
      " bidirectional (Bidirectiona  (None, 256)              746496    \n",
      " l)                                                              \n",
      "                                                                 \n",
      " dense (Dense)               (None, 64)                16448     \n",
      "                                                                 \n",
      " dense_1 (Dense)             (None, 8)                 520       \n",
      "                                                                 \n",
      " dense_2 (Dense)             (None, 1)                 9         \n",
      "                                                                 \n",
      "=================================================================\n",
      "Total params: 763,473\n",
      "Trainable params: 763,473\n",
      "Non-trainable params: 0\n",
      "_________________________________________________________________\n"
     ]
    }
   ],
   "source": [
    "\n",
    "\n",
    "# Clear session\n",
    "keras.backend.clear_session()\n",
    "\n",
    "# model initialization\n",
    "model = keras.Sequential([\n",
    "    keras.layers.Bidirectional(keras.layers.LSTM(128), input_shape=(90, 600)),\n",
    "    keras.layers.Dense(64, activation='relu'),\n",
    "    keras.layers.Dense(8, activation='relu'),\n",
    "    keras.layers.Dense(1, activation='sigmoid')\n",
    "])\n",
    "\n",
    "# compile model with loss suited for 3 categories: \"Positive\", \"Negative\", \"Neutral\"\n",
    "model.compile(loss='binary_crossentropy',\n",
    "              optimizer=tf.optimizers.Adam(learning_rate=0.001),\n",
    "              metrics=['accuracy'],\n",
    ")\n",
    "\n",
    "# model summary\n",
    "model.summary()"
   ]
  },
  {
   "cell_type": "code",
   "execution_count": 87,
   "metadata": {},
   "outputs": [
    {
     "name": "stdout",
     "output_type": "stream",
     "text": [
      "Epoch 1/15\n",
      "9/9 [==============================] - 6s 424ms/step - loss: 0.6284 - accuracy: 0.6714 - val_loss: 0.5216 - val_accuracy: 0.7909\n",
      "Epoch 2/15\n",
      "9/9 [==============================] - 3s 343ms/step - loss: 0.4269 - accuracy: 0.8346 - val_loss: 0.3256 - val_accuracy: 0.8716\n",
      "Epoch 3/15\n",
      "9/9 [==============================] - 3s 346ms/step - loss: 0.3079 - accuracy: 0.8760 - val_loss: 0.2787 - val_accuracy: 0.8904\n",
      "Epoch 4/15\n",
      "9/9 [==============================] - 3s 347ms/step - loss: 0.2645 - accuracy: 0.8961 - val_loss: 0.2532 - val_accuracy: 0.9092\n",
      "Epoch 5/15\n",
      "9/9 [==============================] - 3s 346ms/step - loss: 0.2389 - accuracy: 0.9082 - val_loss: 0.2421 - val_accuracy: 0.9112\n",
      "Epoch 6/15\n",
      "9/9 [==============================] - 3s 344ms/step - loss: 0.2151 - accuracy: 0.9187 - val_loss: 0.2379 - val_accuracy: 0.9166\n",
      "Epoch 7/15\n",
      "9/9 [==============================] - 3s 349ms/step - loss: 0.1950 - accuracy: 0.9286 - val_loss: 0.2308 - val_accuracy: 0.9220\n",
      "Epoch 8/15\n",
      "9/9 [==============================] - 3s 352ms/step - loss: 0.1803 - accuracy: 0.9336 - val_loss: 0.2257 - val_accuracy: 0.9220\n",
      "Epoch 9/15\n",
      "9/9 [==============================] - 3s 357ms/step - loss: 0.1577 - accuracy: 0.9460 - val_loss: 0.2267 - val_accuracy: 0.9200\n",
      "Epoch 10/15\n",
      "9/9 [==============================] - 3s 358ms/step - loss: 0.1417 - accuracy: 0.9517 - val_loss: 0.2514 - val_accuracy: 0.9045\n",
      "Epoch 11/15\n",
      "9/9 [==============================] - 3s 355ms/step - loss: 0.1262 - accuracy: 0.9579 - val_loss: 0.2374 - val_accuracy: 0.9213\n",
      "Epoch 12/15\n",
      "9/9 [==============================] - 3s 353ms/step - loss: 0.1103 - accuracy: 0.9643 - val_loss: 0.2347 - val_accuracy: 0.9146\n",
      "Epoch 13/15\n",
      "9/9 [==============================] - 3s 354ms/step - loss: 0.0943 - accuracy: 0.9711 - val_loss: 0.2669 - val_accuracy: 0.9072\n",
      "Epoch 14/15\n",
      "9/9 [==============================] - 3s 360ms/step - loss: 0.0817 - accuracy: 0.9750 - val_loss: 0.2488 - val_accuracy: 0.9126\n",
      "Epoch 15/15\n",
      "9/9 [==============================] - 3s 351ms/step - loss: 0.0665 - accuracy: 0.9809 - val_loss: 0.2689 - val_accuracy: 0.9139\n"
     ]
    }
   ],
   "source": [
    "# Fit Model and save history\n",
    "history = model.fit(train_gen, epochs=15, validation_data=val_gen)"
   ]
  },
  {
   "cell_type": "code",
   "execution_count": 88,
   "metadata": {},
   "outputs": [
    {
     "data": {
      "image/png": "[encoded data removed]",
      "text/plain": [
       "<Figure size 640x480 with 1 Axes>"
      ]
     },
     "metadata": {},
     "output_type": "display_data"
    },
    {
     "data": {
      "image/png": "[encoded data removed]",
      "text/plain": [
       "<Figure size 640x480 with 1 Axes>"
      ]
     },
     "metadata": {},
     "output_type": "display_data"
    }
   ],
   "source": [
    "# plot loss history using seaborn\n",
    "\n",
    "sns.lineplot(data=pd.DataFrame(history.history)[[\"loss\", \"val_loss\"]])\n",
    "plt.show()\n",
    "\n",
    "# plot accuracy history using seaborn\n",
    "sns.lineplot(data=pd.DataFrame(history.history)[[\"accuracy\", \"val_accuracy\"]])\n",
    "plt.show()"
   ]
  },
  {
   "cell_type": "code",
   "execution_count": 89,
   "metadata": {},
   "outputs": [
    {
     "name": "stdout",
     "output_type": "stream",
     "text": [
      "3/3 [==============================] - 1s 310ms/step - loss: 0.2692 - accuracy: 0.9112\n"
     ]
    },
    {
     "data": {
      "text/plain": [
       "[0.2691899538040161, 0.9112426042556763]"
      ]
     },
     "execution_count": 89,
     "metadata": {},
     "output_type": "execute_result"
    }
   ],
   "source": [
    "model.evaluate(test_gen)"
   ]
  }
 ],
 "metadata": {
  "kernelspec": {
   "display_name": "tensorflow",
   "language": "python",
   "name": "python3"
  },
  "language_info": {
   "codemirror_mode": {
    "name": "ipython",
    "version": 3
   },
   "file_extension": ".py",
   "mimetype": "text/x-python",
   "name": "python",
   "nbconvert_exporter": "python",
   "pygments_lexer": "ipython3",
   "version": "3.11.2"
  }
 },
 "nbformat": 4,
 "nbformat_minor": 2
}
