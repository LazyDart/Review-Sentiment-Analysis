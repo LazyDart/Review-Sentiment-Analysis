{
 "cells": [
  {
   "cell_type": "code",
   "execution_count": 1,
   "metadata": {},
   "outputs": [],
   "source": [
    "import os\n",
    "# Reqiured to suppress tensorflow annoying warnings\n",
    "os.environ['TF_CPP_MIN_LOG_LEVEL'] = '2'\n",
    "\n",
    "import pandas as pd\n",
    "import numpy as np\n",
    "\n",
    "import spacy\n",
    "import tensorflow as tf\n",
    "from tensorflow import keras\n",
    "\n",
    "from sklearn.model_selection import train_test_split\n",
    "from sklearn.preprocessing import LabelEncoder\n",
    "\n",
    "import matplotlib.pyplot as plt\n",
    "import seaborn as sns\n"
   ]
  },
  {
   "cell_type": "code",
   "execution_count": 2,
   "metadata": {},
   "outputs": [],
   "source": [
    "df = pd.read_csv(\"./data/output.csv\")"
   ]
  },
  {
   "cell_type": "markdown",
   "metadata": {},
   "source": [
    "### Data Cleaning"
   ]
  },
  {
   "cell_type": "code",
   "execution_count": 3,
   "metadata": {},
   "outputs": [],
   "source": [
    "# \"review_text\" nan are to be deleted. Other can stay.\n",
    "df = df.dropna(subset=[\"review_text\"])\n",
    "\n",
    "# Remove invalid entries\n",
    "df = df.loc[df[\"entry_date\"] != \"entry_date\"]\n",
    "\n",
    "# Remove duplicate entries\n",
    "df = df.drop_duplicates([\"offer_ref\", \"entry_id\", \"review_text\"]).drop_duplicates(\"review_text\")\n"
   ]
  },
  {
   "cell_type": "code",
   "execution_count": 4,
   "metadata": {},
   "outputs": [],
   "source": [
    "# fix data types\n",
    "df[\"entry_date\"] = pd.to_datetime(df[\"entry_date\"])\n",
    "df[\"purchase_date\"] = pd.to_datetime(df[\"purchase_date\"])\n",
    "df[\"entry_id\"] = df[\"entry_id\"].astype(int)\n",
    "df[\"offer_ref\"] = df[\"offer_ref\"].astype(int)\n",
    "df[\"score\"] = df[\"score\"].astype(float)"
   ]
  },
  {
   "cell_type": "code",
   "execution_count": 5,
   "metadata": {},
   "outputs": [],
   "source": [
    "# Get Sentiment Cases based on score\n",
    "df[\"sentiment\"] = df[\"score\"].apply(lambda x: \"Positive\" if x >= 4 else \"Negative\" if x <= 2 else \"Neutral\")"
   ]
  },
  {
   "cell_type": "code",
   "execution_count": 6,
   "metadata": {},
   "outputs": [],
   "source": [
    "df[\"review_text\"] = df[\"review_text\"].replace(\"\\n\", \" \", regex=True).replace(\"_+\", \" \", regex=True)"
   ]
  },
  {
   "cell_type": "markdown",
   "metadata": {},
   "source": [
    "### Training Data Prep"
   ]
  },
  {
   "cell_type": "code",
   "execution_count": 7,
   "metadata": {},
   "outputs": [],
   "source": [
    "# Get data to train the model on.\n",
    "data_cleaned = df[[\"review_text\", \"sentiment\"]].reset_index(drop=True).copy()"
   ]
  },
  {
   "cell_type": "code",
   "execution_count": 8,
   "metadata": {},
   "outputs": [],
   "source": [
    "# Get Language Model\n",
    "nlp = spacy.load(\"pl_core_news_lg\")"
   ]
  },
  {
   "cell_type": "code",
   "execution_count": 9,
   "metadata": {},
   "outputs": [],
   "source": [
    "# Apply tokenizer (TAKES ROUGHLY 5 mins!!! on 40K reviews)\n",
    "data_cleaned[\"review_text\"] = data_cleaned[\"review_text\"].transform(lambda x: nlp(x))"
   ]
  },
  {
   "cell_type": "code",
   "execution_count": 10,
   "metadata": {},
   "outputs": [],
   "source": [
    "data_cleaned[\"vectored_form\"] = (\n",
    "    data_cleaned[\"review_text\"].transform(lambda x: # x is a Doc object\n",
    "        tf.convert_to_tensor( # calculate mean of word vectors for each sentence. Tensors have different number of sentences.\n",
    "            [tf.reduce_mean(tf.constant([token.vector for token in sentence], dtype=tf.float64), 0) for sentence in x.sents]\n",
    "        )\n",
    "    )\n",
    ")"
   ]
  },
  {
   "cell_type": "code",
   "execution_count": 11,
   "metadata": {},
   "outputs": [],
   "source": [
    "# Prepare target for categorical crossentropy\n",
    "data_cleaned[\"target\"] = LabelEncoder().fit_transform(data_cleaned[\"sentiment\"])"
   ]
  },
  {
   "cell_type": "code",
   "execution_count": 12,
   "metadata": {},
   "outputs": [],
   "source": [
    "class DataGenerator(keras.utils.Sequence):\n",
    "    def __init__(self, x_set, y_set, batch_size):\n",
    "        self.x, self.y = x_set, y_set\n",
    "        self.batch_size = batch_size\n",
    "\n",
    "    def __len__(self):\n",
    "        return int(np.ceil(len(self.x) / float(self.batch_size)))\n",
    "\n",
    "    def __getitem__(self, idx):\n",
    "        batch_x = self.x[idx * self.batch_size:(idx + 1) * self.batch_size] \n",
    "        batch_x = tf.convert_to_tensor([tf.pad(x, [[0, 90 - x.shape[0]], [0, 0]]) for x in batch_x])\n",
    "        batch_y = tf.keras.utils.to_categorical(self.y[idx * self.batch_size:(idx + 1) * self.batch_size], num_classes=3)\n",
    "        return batch_x, batch_y"
   ]
  },
  {
   "cell_type": "code",
   "execution_count": 13,
   "metadata": {},
   "outputs": [],
   "source": [
    "# data_cleaned[\"vectored_form\"].to"
   ]
  },
  {
   "cell_type": "code",
   "execution_count": 14,
   "metadata": {},
   "outputs": [],
   "source": [
    "# tf.pad(data_cleaned[\"vectored_form\"].iloc[11002], [[0, 90 - data_cleaned[\"vectored_form\"].iloc[11002].shape[0]], [0, 0]])"
   ]
  },
  {
   "cell_type": "code",
   "execution_count": 15,
   "metadata": {},
   "outputs": [],
   "source": [
    "# data_cleaned[\"vectored_form\"].transform(lambda x: tf.pad(x, [[0, 90 - x.shape[0]], [0, 0]]))"
   ]
  },
  {
   "cell_type": "code",
   "execution_count": 16,
   "metadata": {},
   "outputs": [],
   "source": [
    "# tfds = tf.data.Dataset.from_tensor_slices((data_cleaned[\"vectored_form\"], data_cleaned[\"target\"]))"
   ]
  },
  {
   "cell_type": "code",
   "execution_count": 34,
   "metadata": {},
   "outputs": [],
   "source": [
    "# Train test split\n",
    "X_train, X_test, y_train, y_test = train_test_split(data_cleaned[\"vectored_form\"], data_cleaned[\"target\"], test_size=0.2, random_state=42)\n",
    "# Further split to get validation set\n",
    "X_train, X_val, y_train, y_val = train_test_split(X_train, y_train, test_size=0.1, random_state=42)\n",
    "\n",
    "train_gen = DataGenerator(X_train, y_train, 32)\n",
    "val_gen = DataGenerator(X_val, y_val, 32)\n",
    "test_gen = DataGenerator(X_test, y_test, 32)"
   ]
  },
  {
   "cell_type": "code",
   "execution_count": 50,
   "metadata": {},
   "outputs": [
    {
     "name": "stdout",
     "output_type": "stream",
     "text": [
      "Model: \"sequential\"\n",
      "_________________________________________________________________\n",
      " Layer (type)                Output Shape              Param #   \n",
      "=================================================================\n",
      " bidirectional (Bidirectiona  (None, 192)              304896    \n",
      " l)                                                              \n",
      "                                                                 \n",
      " dense (Dense)               (None, 32)                6176      \n",
      "                                                                 \n",
      " dense_1 (Dense)             (None, 3)                 99        \n",
      "                                                                 \n",
      "=================================================================\n",
      "Total params: 311,171\n",
      "Trainable params: 311,171\n",
      "Non-trainable params: 0\n",
      "_________________________________________________________________\n"
     ]
    }
   ],
   "source": [
    "\n",
    "\n",
    "# Clear session\n",
    "keras.backend.clear_session()\n",
    "\n",
    "# model initialization\n",
    "model = keras.Sequential([\n",
    "    keras.layers.Bidirectional(keras.layers.LSTM(96), input_shape=(90, 300)),\n",
    "    keras.layers.Dense(32, activation='relu'),\n",
    "    keras.layers.Dense(3, activation='softmax')\n",
    "])\n",
    "\n",
    "# compile model with loss suited for 3 categories: \"Positive\", \"Negative\", \"Neutral\"\n",
    "model.compile(loss='categorical_crossentropy',\n",
    "              optimizer=tf.optimizers.Adam(learning_rate=0.00005),\n",
    "              metrics=['accuracy'],\n",
    ")\n",
    "\n",
    "# model summary\n",
    "model.summary()"
   ]
  },
  {
   "cell_type": "code",
   "execution_count": 51,
   "metadata": {},
   "outputs": [],
   "source": [
    "# Pad the data to have the same number of sentences in each review, the maximal number is 90\n",
    "# data_cleaned[\"padded_vectored_form\"] = data_cleaned[\"vectored_form\"].transform(lambda x: tf.pad(x, [[0, 90 - x.shape[0]], [0, 0]]))"
   ]
  },
  {
   "cell_type": "code",
   "execution_count": 52,
   "metadata": {},
   "outputs": [
    {
     "name": "stdout",
     "output_type": "stream",
     "text": [
      "Epoch 1/10\n"
     ]
    },
    {
     "name": "stdout",
     "output_type": "stream",
     "text": [
      "971/971 [==============================] - 12s 10ms/step - loss: 0.8608 - accuracy: 0.6131 - val_loss: 0.7631 - val_accuracy: 0.6623\n",
      "Epoch 2/10\n",
      "971/971 [==============================] - 9s 9ms/step - loss: 0.7351 - accuracy: 0.6844 - val_loss: 0.7214 - val_accuracy: 0.6841\n",
      "Epoch 3/10\n",
      "971/971 [==============================] - 9s 9ms/step - loss: 0.6969 - accuracy: 0.7056 - val_loss: 0.6865 - val_accuracy: 0.7070\n",
      "Epoch 4/10\n",
      "971/971 [==============================] - 9s 9ms/step - loss: 0.6719 - accuracy: 0.7176 - val_loss: 0.6790 - val_accuracy: 0.7093\n",
      "Epoch 5/10\n",
      "971/971 [==============================] - 10s 10ms/step - loss: 0.6536 - accuracy: 0.7267 - val_loss: 0.6656 - val_accuracy: 0.7194\n",
      "Epoch 6/10\n",
      "971/971 [==============================] - 9s 9ms/step - loss: 0.6359 - accuracy: 0.7349 - val_loss: 0.6721 - val_accuracy: 0.7206\n",
      "Epoch 7/10\n",
      "971/971 [==============================] - 9s 9ms/step - loss: 0.6227 - accuracy: 0.7435 - val_loss: 0.6657 - val_accuracy: 0.7130\n",
      "Epoch 8/10\n",
      "971/971 [==============================] - 9s 9ms/step - loss: 0.6100 - accuracy: 0.7493 - val_loss: 0.6564 - val_accuracy: 0.7264\n",
      "Epoch 9/10\n",
      "971/971 [==============================] - 9s 9ms/step - loss: 0.5975 - accuracy: 0.7553 - val_loss: 0.6623 - val_accuracy: 0.7238\n",
      "Epoch 10/10\n",
      "971/971 [==============================] - 9s 9ms/step - loss: 0.5863 - accuracy: 0.7614 - val_loss: 0.6566 - val_accuracy: 0.7238\n"
     ]
    }
   ],
   "source": [
    "# Fit Model and save history\n",
    "history = model.fit(train_gen, epochs=10, validation_data=val_gen)"
   ]
  },
  {
   "cell_type": "code",
   "execution_count": 53,
   "metadata": {},
   "outputs": [
    {
     "data": {
      "image/png": "[encoded data removed]",
      "text/plain": [
       "<Figure size 640x480 with 1 Axes>"
      ]
     },
     "metadata": {},
     "output_type": "display_data"
    },
    {
     "data": {
      "image/png": "[encoded data removed]",
      "text/plain": [
       "<Figure size 640x480 with 1 Axes>"
      ]
     },
     "metadata": {},
     "output_type": "display_data"
    }
   ],
   "source": [
    "# plot loss history using seaborn\n",
    "\n",
    "sns.lineplot(data=pd.DataFrame(history.history)[[\"loss\", \"val_loss\"]])\n",
    "plt.show()\n",
    "\n",
    "# plot accuracy history using seaborn\n",
    "sns.lineplot(data=pd.DataFrame(history.history)[[\"accuracy\", \"val_accuracy\"]])\n",
    "plt.show()"
   ]
  },
  {
   "cell_type": "code",
   "execution_count": 54,
   "metadata": {},
   "outputs": [
    {
     "name": "stdout",
     "output_type": "stream",
     "text": [
      "  1/270 [..............................] - ETA: 9s - loss: 0.6164 - accuracy: 0.7500"
     ]
    },
    {
     "name": "stdout",
     "output_type": "stream",
     "text": [
      "270/270 [==============================] - 2s 7ms/step - loss: 0.6525 - accuracy: 0.7204\n"
     ]
    },
    {
     "data": {
      "text/plain": [
       "[0.652510941028595, 0.7203802466392517]"
      ]
     },
     "execution_count": 54,
     "metadata": {},
     "output_type": "execute_result"
    }
   ],
   "source": [
    "model.evaluate(test_gen)"
   ]
  }
 ],
 "metadata": {
  "kernelspec": {
   "display_name": "tensorflow",
   "language": "python",
   "name": "python3"
  },
  "language_info": {
   "codemirror_mode": {
    "name": "ipython",
    "version": 3
   },
   "file_extension": ".py",
   "mimetype": "text/x-python",
   "name": "python",
   "nbconvert_exporter": "python",
   "pygments_lexer": "ipython3",
   "version": "3.11.2"
  }
 },
 "nbformat": 4,
 "nbformat_minor": 2
}
