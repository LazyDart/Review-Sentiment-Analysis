{
 "cells": [
  {
   "cell_type": "code",
   "execution_count": 1,
   "metadata": {},
   "outputs": [],
   "source": [
    "import pandas as pd\n",
    "import numpy as np\n",
    "\n",
    "import spacy"
   ]
  },
  {
   "cell_type": "code",
   "execution_count": 3,
   "metadata": {},
   "outputs": [],
   "source": [
    "df = pd.read_pickle('data/typos_annotated.pkl')"
   ]
  },
  {
   "cell_type": "code",
   "execution_count": 7,
   "metadata": {},
   "outputs": [
    {
     "data": {
      "text/plain": [
       "0         <class 'spacy.tokens.doc.Doc'>\n",
       "1         <class 'spacy.tokens.doc.Doc'>\n",
       "2         <class 'spacy.tokens.doc.Doc'>\n",
       "3         <class 'spacy.tokens.doc.Doc'>\n",
       "4         <class 'spacy.tokens.doc.Doc'>\n",
       "                       ...              \n",
       "178786    <class 'spacy.tokens.doc.Doc'>\n",
       "178787    <class 'spacy.tokens.doc.Doc'>\n",
       "179362    <class 'spacy.tokens.doc.Doc'>\n",
       "180034    <class 'spacy.tokens.doc.Doc'>\n",
       "180096    <class 'spacy.tokens.doc.Doc'>\n",
       "Name: review_text, Length: 65015, dtype: object"
      ]
     },
     "execution_count": 7,
     "metadata": {},
     "output_type": "execute_result"
    }
   ],
   "source": [
    "df[\"review_text\"].transform(type)"
   ]
  }
 ],
 "metadata": {
  "kernelspec": {
   "display_name": "tensorflow",
   "language": "python",
   "name": "python3"
  },
  "language_info": {
   "codemirror_mode": {
    "name": "ipython",
    "version": 3
   },
   "file_extension": ".py",
   "mimetype": "text/x-python",
   "name": "python",
   "nbconvert_exporter": "python",
   "pygments_lexer": "ipython3",
   "version": "3.11.2"
  }
 },
 "nbformat": 4,
 "nbformat_minor": 2
}
